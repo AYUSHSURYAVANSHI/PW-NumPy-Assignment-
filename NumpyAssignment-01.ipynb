{
 "cells": [
  {
   "cell_type": "code",
   "execution_count": 24,
   "metadata": {},
   "outputs": [
    {
     "name": "stdout",
     "output_type": "stream",
     "text": [
      "Data type of list_: <class 'list'>\n",
      "Data type of array_list: <U1\n"
     ]
    }
   ],
   "source": [
    "# 1. Is there any difference in the data type of variables list_ and array_list? If there is then write a code \n",
    "# to print the data types of both the variables.\n",
    "# import numpy as np\n",
    "#  list_ = [ ‘1’ , ’2’ , ‘3’ , ‘4’ , ‘5’ ]\n",
    "#  array_list = np.array(object = list_)\n",
    "# Answer :-\n",
    "# Yes, there is a difference in the data type of variables list_ and array_list.\n",
    "\n",
    "# The variable list_ is a standard Python list, which can contain elements of different data types. In this case, it contains strings as elements.\n",
    "\n",
    "# The variable array_list is a NumPy array, which is a homogeneous multidimensional container for elements of the same data type. When creating a NumPy array from a Python list, the data type of the resulting array is determined based on the elements of the list. In this case, since the elements of list_ are strings, the data type of array_list will be string as well.\n",
    "\n",
    "# Here's the code to print the data types of both variables:\n",
    "import numpy as np\n",
    "\n",
    "list_ = ['1', '2', '3', '4', '5']\n",
    "array_list = np.array(object=list_)\n",
    "\n",
    "print(\"Data type of list_:\", type(list_))\n",
    "print(\"Data type of array_list:\", array_list.dtype)\n"
   ]
  },
  {
   "cell_type": "code",
   "execution_count": 25,
   "metadata": {},
   "outputs": [
    {
     "name": "stdout",
     "output_type": "stream",
     "text": [
      "Data type of element in list_: <class 'str'>\n",
      "Data type of element in list_: <class 'str'>\n",
      "Data type of element in list_: <class 'str'>\n",
      "Data type of element in list_: <class 'str'>\n",
      "Data type of element in list_: <class 'str'>\n",
      "Data type of element in array_list: <U1\n",
      "Data type of element in array_list: <U1\n",
      "Data type of element in array_list: <U1\n",
      "Data type of element in array_list: <U1\n",
      "Data type of element in array_list: <U1\n"
     ]
    }
   ],
   "source": [
    "# Q2. Write a code to print the data type of each and every element of both the variables list_ and \n",
    "# arra_list.\n",
    "# import numpy as np\n",
    "#  list_ = [ ‘1’ , ’2’ , ‘3’ , ‘4’ , ‘5’ ]\n",
    "#  array_list = np.array(object = list_)\n",
    "# Answer :-\n",
    "import numpy as np\n",
    "\n",
    "list_ = ['1', '2', '3', '4', '5']\n",
    "array_list = np.array(object=list_)\n",
    "\n",
    "# Print data type of each element in list_\n",
    "for element in list_:\n",
    "    print(\"Data type of element in list_:\", type(element))\n",
    "\n",
    "# Print data type of each element in array_list\n",
    "for element in array_list:\n",
    "    print(\"Data type of element in array_list:\", element.dtype)\n",
    "\n"
   ]
  },
  {
   "cell_type": "code",
   "execution_count": 26,
   "metadata": {},
   "outputs": [
    {
     "name": "stdout",
     "output_type": "stream",
     "text": [
      "Data type of element in list_: <class 'str'>\n",
      "Data type of element in list_: <class 'str'>\n",
      "Data type of element in list_: <class 'str'>\n",
      "Data type of element in list_: <class 'str'>\n",
      "Data type of element in list_: <class 'str'>\n",
      "Data type of element in array_list: <class 'numpy.int32'>\n",
      "Data type of element in array_list: <class 'numpy.int32'>\n",
      "Data type of element in array_list: <class 'numpy.int32'>\n",
      "Data type of element in array_list: <class 'numpy.int32'>\n",
      "Data type of element in array_list: <class 'numpy.int32'>\n"
     ]
    }
   ],
   "source": [
    "# Q3. Considering the following changes in the variable, array_list:\n",
    "#  array_list = np.array(object = list_, dtype = int)\n",
    "# import numpy as np\n",
    "#  list_ = [ ‘1’ , ’2’ , ‘3’ , ‘4’ , ‘5’ ]\n",
    "#  array_list = np.array(object = list_)\n",
    "# Will there be any difference in the data type of the elements present in both the variables, list_ and \n",
    "# arra_list? If so then print the data types of each and every element present in both the variables, list_ \n",
    "# and arra_list.\n",
    "# Answer :-\n",
    "# Yes, there will be a difference in the data type of the elements present in both the variables list_ and array_list when the dtype parameter is explicitly set to int while creating array_list.\n",
    "# Here's the updated code to print the data type of each element in both list_ and array_list:\n",
    "import numpy as np\n",
    "\n",
    "list_ = ['1', '2', '3', '4', '5']\n",
    "array_list = np.array(object=list_, dtype=int)\n",
    "\n",
    "# Print data type of each element in list_\n",
    "for element in list_:\n",
    "    print(\"Data type of element in list_:\", type(element))\n",
    "\n",
    "# Print data type of each element in array_list\n",
    "for element in array_list:\n",
    "    print(\"Data type of element in array_list:\", type(element))\n"
   ]
  },
  {
   "cell_type": "code",
   "execution_count": 27,
   "metadata": {},
   "outputs": [
    {
     "name": "stdout",
     "output_type": "stream",
     "text": [
      "Shape of num_array: (2, 3)\n",
      "Size of num_array: 6\n"
     ]
    }
   ],
   "source": [
    "# Q4. Write a code to find the following characteristics of variable, num_array:\n",
    "# (i) shape\n",
    "# (ii) size\n",
    "# import numpy as np\n",
    "# num_list = [ [ 1 , 2 , 3 ] , [ 4 , 5 , 6 ] ]\n",
    "#  num_array = np.array(object = num_list)\n",
    "# Answer :-\n",
    "import numpy as np\n",
    "\n",
    "num_list = [[1, 2, 3], [4, 5, 6]]\n",
    "num_array = np.array(object=num_list)\n",
    "\n",
    "# Find the shape of num_array\n",
    "shape = num_array.shape\n",
    "print(\"Shape of num_array:\", shape)\n",
    "\n",
    "# Find the size of num_array\n",
    "size = num_array.size\n",
    "print(\"Size of num_array:\", size)\n",
    "\n"
   ]
  },
  {
   "cell_type": "code",
   "execution_count": 28,
   "metadata": {},
   "outputs": [
    {
     "name": "stdout",
     "output_type": "stream",
     "text": [
      "[[0. 0. 0.]\n",
      " [0. 0. 0.]\n",
      " [0. 0. 0.]]\n"
     ]
    }
   ],
   "source": [
    "# Q5. Write a code to create numpy array of 3*3 matrix containing zeros only, using a numpy array \n",
    "# creation function.\n",
    "#  [Hint: The size of the array will be 9 and the shape will be (3,3).]\n",
    "# import numpy as np\n",
    "# num_list = [ [ 1 , 2 , 3 ] , [ 4 , 5 , 6 ] ]\n",
    "#  num_array = np.array(object = num_list)\n",
    "# Answer :-\n",
    "import numpy as np\n",
    "\n",
    "zero_array = np.zeros((3, 3))\n",
    "\n",
    "print(zero_array)\n"
   ]
  },
  {
   "cell_type": "code",
   "execution_count": 29,
   "metadata": {},
   "outputs": [
    {
     "name": "stdout",
     "output_type": "stream",
     "text": [
      "[[1. 0. 0. 0. 0.]\n",
      " [0. 1. 0. 0. 0.]\n",
      " [0. 0. 1. 0. 0.]\n",
      " [0. 0. 0. 1. 0.]\n",
      " [0. 0. 0. 0. 1.]]\n"
     ]
    }
   ],
   "source": [
    "# Q6. Create an identity matrix of shape (5,5) using numpy functions?\n",
    "#  [Hint: An identity matrix is a matrix containing 1 diagonally and other elements will be 0.]\n",
    "# import numpy as np\n",
    "# num_list = [ [ 1 , 2 , 3 ] , [ 4 , 5 , 6 ] ]\n",
    "#  num_array = np.array(object = num_list)\n",
    "# Answer :-\n",
    "import numpy as np\n",
    "\n",
    "identity_matrix = np.eye(5)\n",
    "\n",
    "print(identity_matrix)\n"
   ]
  }
 ],
 "metadata": {
  "kernelspec": {
   "display_name": "Python 3",
   "language": "python",
   "name": "python3"
  },
  "language_info": {
   "codemirror_mode": {
    "name": "ipython",
    "version": 3
   },
   "file_extension": ".py",
   "mimetype": "text/x-python",
   "name": "python",
   "nbconvert_exporter": "python",
   "pygments_lexer": "ipython3",
   "version": "3.10.11"
  },
  "orig_nbformat": 4
 },
 "nbformat": 4,
 "nbformat_minor": 2
}
