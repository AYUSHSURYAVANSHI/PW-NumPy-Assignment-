{
 "cells": [
  {
   "cell_type": "code",
   "execution_count": null,
   "metadata": {},
   "outputs": [],
   "source": [
    "# Que 1: Name any five plots that we can plot using the Seaborn library. Also, state the uses of each plot.\n",
    "# Answer :-\n",
    "# Line Plot: A line plot is used to visualize the relationship between two numeric variables over a continuous interval. It is commonly used to show trends and patterns over time.\n",
    "\n",
    "# Bar Plot: A bar plot displays categorical data using rectangular bars whose lengths represent the values of the variables. It is useful for comparing different categories and their corresponding values.\n",
    "\n",
    "# Scatter Plot: A scatter plot is used to display the relationship between two numeric variables. It shows how one variable changes in relation to another and helps identify correlations or clusters in the data.\n",
    "\n",
    "# Histogram: A histogram is used to visualize the distribution of a single numeric variable. It divides the variable into bins and shows the frequency or count of data points falling within each bin.\n",
    "\n",
    "# Heatmap: A heatmap is a graphical representation of data using colors to indicate the values of a matrix. It is particularly useful for showing the correlation or relationship between multiple variables in a tabular format.\n",
    "\n",
    "# These are just a few examples of plots that can be created using Seaborn. The library offers many other types of plots such as box plots, violin plots, swarm plots, and more, each serving specific purposes for data visualization and analysis."
   ]
  },
  {
   "cell_type": "code",
   "execution_count": null,
   "metadata": {},
   "outputs": [],
   "source": [
    "# Que 2: Load the \"fmri\" dataset using the load_dataset function of seaborn. Plot a line plot using x = \n",
    "# \"timepoint\" and y = \"signal\" for different events and regions. \n",
    "# Note:  timepoint, signal, event, and region are columns in the fmri dataset.\n",
    "# Answer :-\n",
    "import seaborn as sns\n",
    "\n",
    "# Load the \"fmri\" dataset\n",
    "fmri_data = sns.load_dataset(\"fmri\")\n",
    "\n",
    "# Create the line plot using Seaborn\n",
    "sns.lineplot(x=\"timepoint\", y=\"signal\", hue=\"event\", style=\"region\", data=fmri_data)\n",
    "\n",
    "# Display the plot\n",
    "import matplotlib.pyplot as plt\n",
    "plt.show()\n",
    "\n",
    "\n",
    "\n"
   ]
  },
  {
   "cell_type": "code",
   "execution_count": null,
   "metadata": {},
   "outputs": [],
   "source": [
    "# Que 3: Load the \"titanic\" dataset using the load_dataset function of seaborn. Plot two box plots using x = \n",
    "# 'pclass', y = 'age' and y = 'fare'.\n",
    "# Note:  pclass, age, and fare are columns in the titanic dataset.\n",
    "# Answer :-\n",
    "import seaborn as sns\n",
    "\n",
    "# Load the \"titanic\" dataset\n",
    "titanic_data = sns.load_dataset(\"titanic\")\n",
    "\n",
    "# Create the first box plot for 'age'\n",
    "sns.boxplot(x='pclass', y='age', data=titanic_data)\n",
    "\n",
    "# Display the first plot\n",
    "import matplotlib.pyplot as plt\n",
    "plt.show()\n",
    "\n",
    "# Create the second box plot for 'fare'\n",
    "sns.boxplot(x='pclass', y='fare', data=titanic_data)\n",
    "\n",
    "# Display the second plot\n",
    "plt.show()\n"
   ]
  },
  {
   "cell_type": "code",
   "execution_count": null,
   "metadata": {},
   "outputs": [],
   "source": [
    "# Que 4: Use the \"diamonds\" dataset from seaborn to plot a histogram for the 'price' column. Use the hue \n",
    "# parameter for the 'cut' column of the diamonds dataset. \n",
    "# Answer :-\n",
    "import seaborn as sns\n",
    "\n",
    "# Load the \"diamonds\" dataset\n",
    "diamonds_data = sns.load_dataset(\"diamonds\")\n",
    "\n",
    "# Plot histogram with hue for 'cut' column\n",
    "sns.histplot(data=diamonds_data, x='price', hue='cut', kde=True)\n",
    "\n",
    "# Display the plot\n",
    "import matplotlib.pyplot as plt\n",
    "plt.show()\n"
   ]
  },
  {
   "cell_type": "code",
   "execution_count": null,
   "metadata": {},
   "outputs": [],
   "source": [
    "# Que 5: Use the \"iris\" dataset from seaborn to plot a pair plot. Use the hue parameter for the \"species\" column \n",
    "# of the iris dataset.\n",
    "# Answer :-\n",
    "import seaborn as sns\n",
    "\n",
    "# Load the \"iris\" dataset\n",
    "iris_data = sns.load_dataset(\"iris\")\n",
    "\n",
    "# Plot pair plot with hue for \"species\" column\n",
    "sns.pairplot(data=iris_data, hue=\"species\")\n",
    "\n",
    "# Display the plot\n",
    "import matplotlib.pyplot as plt\n",
    "plt.show()\n"
   ]
  },
  {
   "cell_type": "code",
   "execution_count": null,
   "metadata": {},
   "outputs": [],
   "source": [
    "# Que 6: Use the \"flights\" dataset from seaborn to plot a heatmap.\n",
    "# Answer :-\n",
    "import seaborn as sns\n",
    "\n",
    "# Load the \"flights\" dataset\n",
    "flights_data = sns.load_dataset(\"flights\")\n",
    "\n",
    "# Reshape the data into a pivot table\n",
    "flights_pivot = flights_data.pivot(\"month\", \"year\", \"passengers\")\n",
    "\n",
    "# Plot the heatmap\n",
    "sns.heatmap(data=flights_pivot, cmap=\"YlGnBu\")\n",
    "\n",
    "# Display the plot\n",
    "import matplotlib.pyplot as plt\n",
    "plt.show()\n",
    "\n"
   ]
  }
 ],
 "metadata": {
  "kernelspec": {
   "display_name": "Python 3",
   "language": "python",
   "name": "python3"
  },
  "language_info": {
   "codemirror_mode": {
    "name": "ipython",
    "version": 3
   },
   "file_extension": ".py",
   "mimetype": "text/x-python",
   "name": "python",
   "nbconvert_exporter": "python",
   "pygments_lexer": "ipython3",
   "version": "3.10.11"
  },
  "orig_nbformat": 4
 },
 "nbformat": 4,
 "nbformat_minor": 2
}
