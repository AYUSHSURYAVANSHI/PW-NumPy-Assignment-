{
 "cells": [
  {
   "cell_type": "code",
   "execution_count": null,
   "metadata": {},
   "outputs": [],
   "source": [
    "# Q1. Load the \"titanic\" dataset using the load_dataset function of seaborn. Use Plotly express to plot a \n",
    "# scatter plot for age and fare columns in the titanic dataset.\n",
    "# Answer :-\n",
    "import pandas as pd\n",
    "import plotly.express as px\n",
    "\n",
    "# Load the Titanic dataset using pandas\n",
    "titanic_df = pd.read_csv(\"https://raw.githubusercontent.com/datasciencedojo/datasets/master/titanic.csv\")\n",
    "\n",
    "# Create a scatter plot using Plotly Express\n",
    "fig = px.scatter(titanic_df, x=\"age\", y=\"fare\", title=\"Titanic: Age vs Fare\")\n",
    "fig.show()\n"
   ]
  },
  {
   "cell_type": "code",
   "execution_count": null,
   "metadata": {},
   "outputs": [],
   "source": [
    "# Q2. Using the tips dataset in the Plotly library, plot a box plot using Plotly express.\n",
    "# Answer :-\n",
    "import plotly.express as px\n",
    "\n",
    "# Load the tips dataset from Plotly Express\n",
    "tips_df = px.data.tips\n",
    "\n",
    "# Create a box plot using Plotly Express\n",
    "fig = px.box(tips_df, x=\"day\", y=\"total_bill\", title=\"Tips: Box Plot\")\n",
    "fig.show()\n"
   ]
  },
  {
   "cell_type": "code",
   "execution_count": null,
   "metadata": {},
   "outputs": [],
   "source": [
    "# Q3. Using the tips dataset in the Plotly library, Plot a histogram for x= \"sex\" and y=\"total_bill\" column in \n",
    "# the tips dataset. Also, use the \"smoker\" column with the pattern_shape parameter and the \"day\" \n",
    "# column with the color parameter.\n",
    "# Answer :-\n",
    "import plotly.express as px\n",
    "\n",
    "# Load the tips dataset from Plotly Express\n",
    "tips_df = px.data.tips\n",
    "\n",
    "# Create a bar chart using Plotly Express\n",
    "fig = px.bar(tips_df, x=\"sex\", y=\"total_bill\", color=\"day\", symbol=\"smoker\",\n",
    "             title=\"Tips: Bar Chart\")\n",
    "fig.show()\n",
    "\n"
   ]
  },
  {
   "cell_type": "code",
   "execution_count": null,
   "metadata": {},
   "outputs": [],
   "source": [
    "# Q4. Using the iris dataset in the Plotly library, Plot a scatter matrix plot, using the \"species\" column for \n",
    "# the color parameter.\n",
    "# Note: Use \"sepal_length\", \"sepal_width\", \"petal_length\", \"petal_width\" columns only with the \n",
    "# dimensions parameter.\n",
    "# Answer :-\n",
    "import plotly.express as px\n",
    "\n",
    "# Load the iris dataset from Plotly Express\n",
    "iris_df = px.data.iris()\n",
    "\n",
    "# Create a scatter matrix plot using Plotly Express\n",
    "fig = px.scatter_matrix(iris_df,\n",
    "                        dimensions=[\"sepal_length\", \"sepal_width\", \"petal_length\", \"petal_width\"],\n",
    "                        color=\"species\",\n",
    "                        title=\"Iris: Scatter Matrix Plot\")\n",
    "fig.update_traces(diagonal_visible=False)\n",
    "fig.show()\n",
    "\n",
    "\n"
   ]
  },
  {
   "cell_type": "code",
   "execution_count": null,
   "metadata": {},
   "outputs": [],
   "source": [
    "# Q5. What is Distplot? Using Plotly express, plot a distplot.\n",
    "# Answer :-\n",
    "import plotly.express as px\n",
    "\n",
    "# Create a sample dataset\n",
    "data = [1, 1, 1, 2, 2, 2, 2, 3, 3, 4, 4, 5]\n",
    "\n",
    "# Create a distplot using Plotly Express\n",
    "fig = px.histogram(data, marginal=\"rug\", title=\"Distplot Example\")\n",
    "fig.show()\n",
    "\n"
   ]
  }
 ],
 "metadata": {
  "kernelspec": {
   "display_name": "Python 3",
   "language": "python",
   "name": "python3"
  },
  "language_info": {
   "codemirror_mode": {
    "name": "ipython",
    "version": 3
   },
   "file_extension": ".py",
   "mimetype": "text/x-python",
   "name": "python",
   "nbconvert_exporter": "python",
   "pygments_lexer": "ipython3",
   "version": "3.10.11"
  },
  "orig_nbformat": 4
 },
 "nbformat": 4,
 "nbformat_minor": 2
}
